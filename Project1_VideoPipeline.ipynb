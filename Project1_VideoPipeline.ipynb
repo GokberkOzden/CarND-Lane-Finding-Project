{
 "cells": [
  {
   "cell_type": "code",
   "execution_count": 1,
   "metadata": {},
   "outputs": [
    {
     "name": "stdout",
     "output_type": "stream",
     "text": [
      "[MoviePy] >>>> Building video test_videos_output/solidWhiteRight_pipeline.mp4\n",
      "[MoviePy] Writing video test_videos_output/solidWhiteRight_pipeline.mp4\n"
     ]
    },
    {
     "name": "stderr",
     "output_type": "stream",
     "text": [
      "100%|█████████▉| 221/222 [00:12<00:00, 17.16it/s]\n"
     ]
    },
    {
     "name": "stdout",
     "output_type": "stream",
     "text": [
      "[MoviePy] Done.\n",
      "[MoviePy] >>>> Video ready: test_videos_output/solidWhiteRight_pipeline.mp4 \n",
      "\n",
      "CPU times: user 3.09 s, sys: 186 ms, total: 3.27 s\n",
      "Wall time: 14.6 s\n",
      "[MoviePy] >>>> Building video test_videos_output/solidYellowLeft_pipeline.mp4\n",
      "[MoviePy] Writing video test_videos_output/solidYellowLeft_pipeline.mp4\n"
     ]
    },
    {
     "name": "stderr",
     "output_type": "stream",
     "text": [
      "100%|█████████▉| 681/682 [00:44<00:00, 15.20it/s]\n"
     ]
    },
    {
     "name": "stdout",
     "output_type": "stream",
     "text": [
      "[MoviePy] Done.\n",
      "[MoviePy] >>>> Video ready: test_videos_output/solidYellowLeft_pipeline.mp4 \n",
      "\n",
      "CPU times: user 10.2 s, sys: 542 ms, total: 10.8 s\n",
      "Wall time: 46.5 s\n"
     ]
    },
    {
     "data": {
      "text/html": [
       "\n",
       "<video width=\"960\" height=\"540\" controls>\n",
       "  <source src=\"test_videos_output/solidYellowLeft_pipeline.mp4\">\n",
       "</video>\n"
      ],
      "text/plain": [
       "<IPython.core.display.HTML object>"
      ]
     },
     "execution_count": 1,
     "metadata": {},
     "output_type": "execute_result"
    }
   ],
   "source": [
    "#importing some useful packages\n",
    "# Import everything needed to edit/save/watch video clips\n",
    "from moviepy.editor import VideoFileClip\n",
    "from IPython.display import HTML\n",
    "import matplotlib.pyplot as plt\n",
    "import matplotlib.image as mpimg\n",
    "import numpy as np\n",
    "import cv2\n",
    "import math\n",
    "%matplotlib inline\n",
    "# Define the interested region\n",
    "def region_of_interest(img, vertices):\n",
    "    mask = np.zeros_like(img)\n",
    "    match_mask_color = 255\n",
    "    cv2.fillPoly(mask, vertices, match_mask_color)\n",
    "    masked_image = cv2.bitwise_and(img, mask)\n",
    "    return masked_image\n",
    "# Draw the detected lanes on image\n",
    "def draw_lines(img, lines, color=[255, 0, 0], thickness=10):\n",
    "    #Copy the original image\n",
    "    im = np.copy(img)\n",
    "    # exit if no line is detected\n",
    "    if lines is None:\n",
    "        return\n",
    "    # Create a blank image to draw on\n",
    "    line_img = np.zeros( (im.shape[0], im.shape[1], 3 ), dtype = np.uint8 )\n",
    "    # Loop over the blank image to draw line\n",
    "    for line in lines:\n",
    "        for x1, y1, x2, y2 in line:\n",
    "            cv2.line(line_img, (x1, y1), (x2, y2), color, thickness)\n",
    "    # Merge drawn lines with original image.\n",
    "    image_line = cv2.addWeighted(img, 0.8, line_img, 0.5, 0.0)\n",
    "    return image_line\n",
    "\n",
    "# Main function\n",
    "def image_process(image):\n",
    "    #Copy the original image\n",
    "    im = np.copy(image)\n",
    "    #Get image size\n",
    "    height = im.shape[0]\n",
    "    width = im.shape[1]\n",
    "    #Define region of  interest - from bottom to middle of the image\n",
    "    region_of_interest_vertices = [(0, height), (width/2, height/2), (width, height)]\n",
    "    #Convert image to grayscale\n",
    "    gray_image = cv2.cvtColor(im, cv2.COLOR_RGB2GRAY)\n",
    "    #Apply Canny edge detection - thresholds selected as 70-150\n",
    "    canny_image = cv2.Canny(gray_image, 70, 150)\n",
    "    #Get the relevant area of the image\n",
    "    cropped_image = region_of_interest(canny_image, np.array([region_of_interest_vertices], np.int32))\n",
    "    #Apply Hough Transform\n",
    "    lines = cv2.HoughLinesP(cropped_image, rho=6,theta=np.pi / 180, threshold=160, lines=np.array([]), minLineLength=40, maxLineGap=25)\n",
    "    #Draw the lines on original image - draw_lines is commentted out, because we need to extend the lines on lane segments\n",
    "    #line_image = draw_lines(image, lines)\n",
    "    \n",
    "    # To extend the lines first group the lanes by checking slope value\n",
    "    #Find the left and right lanes\n",
    "    left_x = []\n",
    "    left_y = []\n",
    "    right_x = []\n",
    "    right_y = []\n",
    "    for line in lines:\n",
    "        for x1, y1, x2, y2 in line:\n",
    "            slope = (y2 - y1) / (x2 - x1)\n",
    "            # Define threshold value for slope (if threshold is too small I've noticed some slipping on the lines)\n",
    "            if math.fabs(slope) < 0.5:\n",
    "                continue\n",
    "            #Group the lines by checking the sign of slope    \n",
    "            if slope <= 0: \n",
    "                left_x.extend([x1, x2])\n",
    "                left_y.extend([y1, y2])\n",
    "            else: \n",
    "                right_x.extend([x1, x2])\n",
    "                right_y.extend([y1, y2])\n",
    "    # Define Min and Max points for x and y axes as start and end points for lines.\n",
    "    # 0.6 is an arbitrary value below the horizon\n",
    "    min_y = int(image.shape[0] * 0.6) \n",
    "    max_y = int(image.shape[0])\n",
    "    # Fit polynomials (1 dimensional) for left and rigth lanes\n",
    "    poly_left = np.poly1d(np.polyfit(left_y, left_x, deg=1))\n",
    "    left_x_start = int(poly_left(max_y))\n",
    "    left_x_end = int(poly_left(min_y))\n",
    "\n",
    "    poly_right = np.poly1d(np.polyfit(right_y, right_x, deg=1))\n",
    "    right_x_start = int(poly_right(max_y))\n",
    "    right_x_end = int(poly_right(min_y))\n",
    "    #Draw lines on top of original image\n",
    "    line_image = draw_lines(image, [[[left_x_start, max_y, left_x_end, min_y], [right_x_start, max_y, right_x_end, min_y]]], thickness=5)\n",
    "    return line_image\n",
    "\n",
    "white_output = 'test_videos_output/solidWhiteRight_pipeline.mp4'\n",
    "##clip1 = VideoFileClip(\"test_videos/solidWhiteRight.mp4\").subclip(0,5)\n",
    "clip1 = VideoFileClip(\"test_videos/solidWhiteRight.mp4\")\n",
    "white_clip = clip1.fl_image(image_process) #NOTE: this function expects color images!!\n",
    "%time white_clip.write_videofile(white_output, audio=False)\n",
    "HTML(\"\"\"\n",
    "<video width=\"960\" height=\"540\" controls>\n",
    "  <source src=\"{0}\">\n",
    "</video>\n",
    "\"\"\".format(white_output))\n",
    "\n",
    "\n",
    "yellow_output = 'test_videos_output/solidYellowLeft_pipeline.mp4'\n",
    "## To speed up the testing process you may want to try your pipeline on a shorter subclip of the video\n",
    "## To do so add .subclip(start_second,end_second) to the end of the line below\n",
    "## Where start_second and end_second are integer values representing the start and end of the subclip\n",
    "## You may also uncomment the following line for a subclip of the first 5 seconds\n",
    "##clip2 = VideoFileClip('test_videos/solidYellowLeft.mp4').subclip(0,5)\n",
    "clip2 = VideoFileClip('test_videos/solidYellowLeft.mp4')\n",
    "yellow_clip = clip2.fl_image(image_process)\n",
    "%time yellow_clip.write_videofile(yellow_output, audio=False)\n",
    "HTML(\"\"\"\n",
    "<video width=\"960\" height=\"540\" controls>\n",
    "  <source src=\"{0}\">\n",
    "</video>\n",
    "\"\"\".format(yellow_output))"
   ]
  },
  {
   "cell_type": "code",
   "execution_count": null,
   "metadata": {},
   "outputs": [],
   "source": []
  }
 ],
 "metadata": {
  "kernelspec": {
   "display_name": "Python 3",
   "language": "python",
   "name": "python3"
  },
  "language_info": {
   "codemirror_mode": {
    "name": "ipython",
    "version": 3
   },
   "file_extension": ".py",
   "mimetype": "text/x-python",
   "name": "python",
   "nbconvert_exporter": "python",
   "pygments_lexer": "ipython3",
   "version": "3.6.3"
  }
 },
 "nbformat": 4,
 "nbformat_minor": 2
}
